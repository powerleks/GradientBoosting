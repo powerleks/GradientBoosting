{
 "cells": [
  {
   "cell_type": "code",
   "execution_count": 1,
   "metadata": {},
   "outputs": [],
   "source": [
    "import numpy as np\n",
    "import pandas as pd\n",
    "\n",
    "from copy import deepcopy\n",
    "from sklearn.tree import DecisionTreeRegressor"
   ]
  },
  {
   "cell_type": "code",
   "execution_count": 2,
   "metadata": {},
   "outputs": [],
   "source": [
    "class GradientBoostRegressor:\n",
    "    def __init__(self, n_learners=20, max_depth=3, loss='mse'):\n",
    "        self.base_learner = DecisionTreeRegressor(max_depth=max_depth, max_leaf_nodes=8)\n",
    "        self.n_learners = n_learners\n",
    "        self.regrs = [deepcopy(self.base_learner) for _ in range(self.n_learners)]\n",
    "        self.gammas = [[] for _ in range(self.n_learners)]\n",
    "        self.leaves_output = [[] for _ in range(self.n_learners)]\n",
    "        self.compute_loss = self.mse_loss if loss == 'mse' else loss\n",
    "\n",
    "    def init_odd_pred(self, y):\n",
    "        self.odd_pred = lambda X: np.ones(X.shape[0]) * y.mean()\n",
    "        \n",
    "    def mse_loss(self, y_true, y_pred):\n",
    "        loss = ((y_true - y_pred) ** 2) / 2\n",
    "        grad = y_true - y_pred\n",
    "        return loss, grad\n",
    "    \n",
    "    def get_indices(self, regr, X):\n",
    "        leaves = regr.apply(X)\n",
    "        n_leaves = np.max(leaves)\n",
    "        leaves_index = [np.where(leaves == leaf_num)[0] for leaf_num in range(1, 1 + n_leaves)]\n",
    "        return leaves_index\n",
    "    \n",
    "    def find_optimal_coefs(self, X, y, y_pred, regr, t, leaves_index):\n",
    "        for leaf_index in leaves_index:\n",
    "            if leaf_index.size == 0:\n",
    "                self.gammas[t].append(0)\n",
    "                continue\n",
    "                \n",
    "            leaf_losses = []\n",
    "            for i in np.arange(0.0, 10, 0.01): \n",
    "                leaf_losses.append(\n",
    "                    self.compute_loss(\n",
    "                        y[leaf_index], \n",
    "                        y_pred[leaf_index] + i * regr.predict(X[leaf_index])\n",
    "                    )[0].mean()\n",
    "                )\n",
    "            leaf_gamma = np.arange(0.0, 10, 0.01)[np.argmin(leaf_losses)]\n",
    "            self.gammas[t].append(leaf_gamma)\n",
    "\n",
    "    def fit(self, X, y):\n",
    "        self.init_odd_pred(y)\n",
    "        y_pred = self.odd_pred(X)\n",
    "        for t in range(self.n_learners):\n",
    "            residuals = self.compute_loss(y, y_pred)[1]\n",
    "            self.regrs[t].fit(X, residuals)\n",
    "            leaves_index = self.get_indices(self.regrs[t], X)\n",
    "            self.leaves_output[t] = [\n",
    "                residuals[leaf_index].mean() if leaf_index.size != 0 else 0 for leaf_index in leaves_index\n",
    "            ]\n",
    "            self.find_optimal_coefs(X, y, y_pred, self.regrs[t], t, leaves_index)\n",
    "            leaves = self.regrs[t].apply(X) - 1\n",
    "            pred = [\n",
    "                self.leaves_output[t][leaf_num] * self.gammas[t][leaf_num] for leaf_num in leaves\n",
    "            ]\n",
    "            y_pred += pred\n",
    "  \n",
    "    def predict(self, X):\n",
    "        y_pred = self.odd_pred(X)\n",
    "        for t in range(self.n_learners):\n",
    "            leaves = self.regrs[t].apply(X) - 1\n",
    "            pred = [\n",
    "                self.leaves_output[t][leaf_num] * self.gammas[t][leaf_num] for leaf_num in leaves\n",
    "            ]\n",
    "            y_pred += pred\n",
    "        return y_pred"
   ]
  },
  {
   "cell_type": "markdown",
   "metadata": {},
   "source": [
    "# Сравнение с другими реализациями"
   ]
  },
  {
   "cell_type": "code",
   "execution_count": 7,
   "metadata": {},
   "outputs": [],
   "source": [
    "from sklearn.datasets import load_boston, load_diabetes\n",
    "from sklearn.ensemble import GradientBoostingRegressor\n",
    "from sklearn.model_selection import train_test_split\n",
    "from xgboost import XGBRegressor\n",
    "from lightgbm import LGBMRegressor"
   ]
  },
  {
   "cell_type": "code",
   "execution_count": 8,
   "metadata": {},
   "outputs": [],
   "source": [
    "boston = load_boston()\n",
    "diabets = load_diabetes()"
   ]
  },
  {
   "cell_type": "code",
   "execution_count": 9,
   "metadata": {},
   "outputs": [],
   "source": [
    "def get_split(dataset):\n",
    "    X = boston.data\n",
    "    y = boston.target \n",
    "    X_train, X_test, y_train, y_test = train_test_split(X, y, test_size=0.3, random_state=42)\n",
    "    return X_train, X_test, y_train, y_test"
   ]
  },
  {
   "cell_type": "code",
   "execution_count": 10,
   "metadata": {},
   "outputs": [],
   "source": [
    "def mae_loss(y_true, y_pred):\n",
    "    loss = np.abs(y_true - y_pred)\n",
    "    grad = np.where(y_true > y_pred, 1, -1)\n",
    "    return loss, grad\n",
    "\n",
    "def mse_loss(y_true, y_pred):\n",
    "    loss = ((y_true - y_pred) ** 2) / 2\n",
    "    grad = y_true - y_pred\n",
    "    return loss, grad"
   ]
  },
  {
   "cell_type": "code",
   "execution_count": 11,
   "metadata": {},
   "outputs": [],
   "source": [
    "data = []\n",
    "regrs = [GradientBoostRegressor(100, 3), GradientBoostingRegressor(), \n",
    "         XGBRegressor(), LGBMRegressor()]\n",
    "for dataset in (boston, diabets):\n",
    "    X_train, X_test, y_train, y_test = get_split(dataset)\n",
    "    data.append([])\n",
    "    for regr in regrs:\n",
    "        regr.fit(X_train, y_train)\n",
    "        y_pred = regr.predict(X_test)\n",
    "        data[-1].append(mse_loss(y_test, y_pred)[0].mean())"
   ]
  },
  {
   "cell_type": "markdown",
   "metadata": {},
   "source": [
    "**MSE**:"
   ]
  },
  {
   "cell_type": "code",
   "execution_count": 12,
   "metadata": {},
   "outputs": [
    {
     "data": {
      "text/html": [
       "<div>\n",
       "<style scoped>\n",
       "    .dataframe tbody tr th:only-of-type {\n",
       "        vertical-align: middle;\n",
       "    }\n",
       "\n",
       "    .dataframe tbody tr th {\n",
       "        vertical-align: top;\n",
       "    }\n",
       "\n",
       "    .dataframe thead th {\n",
       "        text-align: right;\n",
       "    }\n",
       "</style>\n",
       "<table border=\"1\" class=\"dataframe\">\n",
       "  <thead>\n",
       "    <tr style=\"text-align: right;\">\n",
       "      <th></th>\n",
       "      <th>own</th>\n",
       "      <th>sklearn</th>\n",
       "      <th>xgb</th>\n",
       "      <th>lightgbm</th>\n",
       "    </tr>\n",
       "  </thead>\n",
       "  <tbody>\n",
       "    <tr>\n",
       "      <th>boston</th>\n",
       "      <td>6.412597</td>\n",
       "      <td>4.013452</td>\n",
       "      <td>4.619457</td>\n",
       "      <td>5.673084</td>\n",
       "    </tr>\n",
       "    <tr>\n",
       "      <th>diabets</th>\n",
       "      <td>6.433693</td>\n",
       "      <td>4.209195</td>\n",
       "      <td>4.619457</td>\n",
       "      <td>5.673084</td>\n",
       "    </tr>\n",
       "  </tbody>\n",
       "</table>\n",
       "</div>"
      ],
      "text/plain": [
       "              own   sklearn       xgb  lightgbm\n",
       "boston   6.412597  4.013452  4.619457  5.673084\n",
       "diabets  6.433693  4.209195  4.619457  5.673084"
      ]
     },
     "execution_count": 12,
     "metadata": {},
     "output_type": "execute_result"
    }
   ],
   "source": [
    "pd.DataFrame(data, columns=['own', 'sklearn', 'xgb', 'lightgbm'], \n",
    "             index=['boston', 'diabets'])"
   ]
  },
  {
   "cell_type": "code",
   "execution_count": 15,
   "metadata": {},
   "outputs": [],
   "source": [
    "data = []\n",
    "regrs = [GradientBoostRegressor(100, 3, mae_loss), GradientBoostingRegressor(), \n",
    "         XGBRegressor(), LGBMRegressor()]\n",
    "for dataset in (boston, diabets):\n",
    "    X_train, X_test, y_train, y_test = get_split(dataset)\n",
    "    data.append([])\n",
    "    for regr in regrs:\n",
    "        regr.fit(X_train, y_train)\n",
    "        y_pred = regr.predict(X_test)\n",
    "        data[-1].append(mae_loss(y_test, y_pred)[0].mean())"
   ]
  },
  {
   "cell_type": "markdown",
   "metadata": {},
   "source": [
    "**MAE**:"
   ]
  },
  {
   "cell_type": "code",
   "execution_count": 16,
   "metadata": {},
   "outputs": [
    {
     "data": {
      "text/html": [
       "<div>\n",
       "<style scoped>\n",
       "    .dataframe tbody tr th:only-of-type {\n",
       "        vertical-align: middle;\n",
       "    }\n",
       "\n",
       "    .dataframe tbody tr th {\n",
       "        vertical-align: top;\n",
       "    }\n",
       "\n",
       "    .dataframe thead th {\n",
       "        text-align: right;\n",
       "    }\n",
       "</style>\n",
       "<table border=\"1\" class=\"dataframe\">\n",
       "  <thead>\n",
       "    <tr style=\"text-align: right;\">\n",
       "      <th></th>\n",
       "      <th>own</th>\n",
       "      <th>sklearn</th>\n",
       "      <th>xgb</th>\n",
       "      <th>lightgbm</th>\n",
       "    </tr>\n",
       "  </thead>\n",
       "  <tbody>\n",
       "    <tr>\n",
       "      <th>boston</th>\n",
       "      <td>2.97260</td>\n",
       "      <td>2.035753</td>\n",
       "      <td>2.091346</td>\n",
       "      <td>2.246041</td>\n",
       "    </tr>\n",
       "    <tr>\n",
       "      <th>diabets</th>\n",
       "      <td>3.20917</td>\n",
       "      <td>2.055225</td>\n",
       "      <td>2.091346</td>\n",
       "      <td>2.246041</td>\n",
       "    </tr>\n",
       "  </tbody>\n",
       "</table>\n",
       "</div>"
      ],
      "text/plain": [
       "             own   sklearn       xgb  lightgbm\n",
       "boston   2.97260  2.035753  2.091346  2.246041\n",
       "diabets  3.20917  2.055225  2.091346  2.246041"
      ]
     },
     "execution_count": 16,
     "metadata": {},
     "output_type": "execute_result"
    }
   ],
   "source": [
    "pd.DataFrame(data, columns=['own', 'sklearn', 'xgb', 'lightgbm'], \n",
    "             index=['boston', 'diabets'])"
   ]
  },
  {
   "cell_type": "markdown",
   "metadata": {},
   "source": [
    "Значение функций потерь у реализованного градиентного бустинга похуже, чем у готовых реализаций, но итоговое значение ошибки у всех методов небольшое и несильно отличается друг от друга."
   ]
  }
 ],
 "metadata": {
  "kernelspec": {
   "display_name": "Python [conda env:.conda-sber] *",
   "language": "python",
   "name": "conda-env-.conda-sber-py"
  },
  "language_info": {
   "codemirror_mode": {
    "name": "ipython",
    "version": 3
   },
   "file_extension": ".py",
   "mimetype": "text/x-python",
   "name": "python",
   "nbconvert_exporter": "python",
   "pygments_lexer": "ipython3",
   "version": "3.7.7"
  }
 },
 "nbformat": 4,
 "nbformat_minor": 4
}
